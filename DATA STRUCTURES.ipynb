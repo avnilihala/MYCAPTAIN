{
 "cells": [
  {
   "cell_type": "code",
   "execution_count": null,
   "metadata": {},
   "outputs": [],
   "source": [
    "#empty list\n",
    "l1=[]\n",
    "#list of integers\n",
    "l2=[1,2,3]\n",
    "#list with mixed data types\n",
    "l3=[1,\"Hello\",3.4]\n",
    "print(l1)\n",
    "print(l2)\n",
    "print(l3)"
   ]
  },
  {
   "cell_type": "code",
   "execution_count": null,
   "metadata": {},
   "outputs": [],
   "source": [
    "#Accessing tuple elements using indexing\n",
    "t1=('p','e','r','m','i','t')\n",
    "print(t1[0])\n",
    "print(t1[5])\n",
    "#nested tuple\n",
    "t2=(\"mouse\",[8,4,6],(1,2,3))\n",
    "print(t2[0][3])\n",
    "print(t2[1][1])\n",
    "#negative indexing for accessing tuples\n",
    "print(t1[-1])\n",
    "print(t1[-6])\n",
    "#Accessing tuple elements using slicing\n",
    "t3=('p','r','o','g','r','a','m')\n",
    "print(t3[1:4])\n",
    "print(t3[:-6])\n",
    "print(t3[6:])\n",
    "print(t3[:])"
   ]
  },
  {
   "cell_type": "code",
   "execution_count": null,
   "metadata": {},
   "outputs": [],
   "source": [
    "#Removing elements from dictionary\n",
    "d1={1:1,2:4,3:9,4:16,5:25}\n",
    "#remove a particular item,returns its value\n",
    "print(d1.pop(4))\n",
    "print(d1)\n",
    "#remove an arbitrary item,return(key,value)\n",
    "print(d1.popitem())\n",
    "print(d1)\n",
    "#remove all items\n",
    "d1.clear()\n",
    "print(d1)\n",
    "#deleting the dictionary itself\n",
    "del d1\n",
    "print(d1)"
   ]
  }
 ],
 "metadata": {
  "kernelspec": {
   "display_name": "Python 3",
   "language": "python",
   "name": "python3"
  },
  "language_info": {
   "codemirror_mode": {
    "name": "ipython",
    "version": 3
   },
   "file_extension": ".py",
   "mimetype": "text/x-python",
   "name": "python",
   "nbconvert_exporter": "python",
   "pygments_lexer": "ipython3",
   "version": "3.7.6"
  }
 },
 "nbformat": 4,
 "nbformat_minor": 4
}
